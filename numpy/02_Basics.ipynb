{
 "cells": [
  {
   "cell_type": "markdown",
   "metadata": {},
   "source": [
    "## Numpy array and basics\n",
    "learn about numpy with ashu"
   ]
  },
  {
   "cell_type": "code",
   "execution_count": null,
   "metadata": {},
   "outputs": [],
   "source": []
  },
  {
   "cell_type": "code",
   "execution_count": 4,
   "metadata": {},
   "outputs": [],
   "source": [
    "import numpy as np                                                                                                              "
   ]
  },
  {
   "cell_type": "code",
   "execution_count": 5,
   "metadata": {},
   "outputs": [
    {
     "name": "stdout",
     "output_type": "stream",
     "text": [
      "1D array is : [1 2 4 5 6]\n"
     ]
    }
   ],
   "source": [
    "arr = np.array([1,2,4,5,6])\n",
    "print(\"1D array is :\" , arr)"
   ]
  },
  {
   "cell_type": "code",
   "execution_count": 7,
   "metadata": {},
   "outputs": [
    {
     "name": "stdout",
     "output_type": "stream",
     "text": [
      "2D array:  [[1 3 4]\n",
      " [2 4 5]]\n"
     ]
    }
   ],
   "source": [
    "arr = np.array([[1,3,4] , [2,4,5]])\n",
    "print(\"2D array: \", arr)"
   ]
  },
  {
   "cell_type": "markdown",
   "metadata": {},
   "source": [
    "List vs numpy array"
   ]
  },
  {
   "cell_type": "code",
   "execution_count": 2,
   "metadata": {},
   "outputs": [
    {
     "name": "stdout",
     "output_type": "stream",
     "text": [
      "\n",
      " List operate time 0.04784345626831055\n"
     ]
    }
   ],
   "source": [
    "import time\n",
    "start = time.time()\n",
    "py_List = [i*2 for i in range(1000000)]\n",
    "print(\"\\n List operate time\", time.time() - start)"
   ]
  },
  {
   "cell_type": "code",
   "execution_count": 5,
   "metadata": {},
   "outputs": [
    {
     "name": "stdout",
     "output_type": "stream",
     "text": [
      "\n",
      " array operate time 0.00822591781616211\n"
     ]
    }
   ],
   "source": [
    "start = time.time()\n",
    "np_array = np.arange(1000000)*2\n",
    "print(\"\\n array operate time\", time.time() - start)"
   ]
  },
  {
   "cell_type": "markdown",
   "metadata": {},
   "source": [
    "## creating array from scrach\n"
   ]
  },
  {
   "cell_type": "code",
   "execution_count": 7,
   "metadata": {},
   "outputs": [
    {
     "name": "stdout",
     "output_type": "stream",
     "text": [
      "zeros array: \n",
      " [[0. 0. 0. 0.]\n",
      " [0. 0. 0. 0.]\n",
      " [0. 0. 0. 0.]]\n",
      "one array: \n",
      " [[1. 1. 1.]\n",
      " [1. 1. 1.]]\n",
      "full array: \n",
      " [[7 7]\n",
      " [7 7]]\n"
     ]
    }
   ],
   "source": [
    "zero = np.zeros((3,4))\n",
    "print(\"zeros array: \\n\" ,zero)\n",
    "\n",
    "ones = np.ones((2,3))\n",
    "print(\"one array: \\n\", ones)\n",
    "\n",
    "full  = np.full((2,2) ,7)\n",
    "print(\"full array: \\n\", full)\n"
   ]
  },
  {
   "cell_type": "code",
   "execution_count": 8,
   "metadata": {},
   "outputs": [
    {
     "name": "stdout",
     "output_type": "stream",
     "text": [
      "random array: \n",
      " [[0.09056056 0.58120352 0.69026366]\n",
      " [0.80992788 0.59829032 0.44086839]]\n"
     ]
    }
   ],
   "source": [
    "random = np.random.random((2,3))\n",
    "print(\"random array: \\n\",random)"
   ]
  },
  {
   "cell_type": "code",
   "execution_count": 9,
   "metadata": {},
   "outputs": [
    {
     "name": "stdout",
     "output_type": "stream",
     "text": [
      "random array: \n",
      " [0 2 4 6 8]\n"
     ]
    }
   ],
   "source": [
    "sequence = np.arange(0 , 10 ,2)\n",
    "print(\"random array: \\n\" ,sequence)"
   ]
  },
  {
   "cell_type": "markdown",
   "metadata": {},
   "source": [
    "## Vector Metrix and Tesnsor \n"
   ]
  },
  {
   "cell_type": "markdown",
   "metadata": {},
   "source": []
  },
  {
   "cell_type": "code",
   "execution_count": 10,
   "metadata": {},
   "outputs": [
    {
     "name": "stdout",
     "output_type": "stream",
     "text": [
      "Vector:  [1 2 3]\n",
      "Matrix: [[1 2 3]\n",
      " [4 5 6]]\n",
      "tensor: [[[1 2]\n",
      "  [3 4]]\n",
      "\n",
      " [[5 6]\n",
      "  [7 8]]]\n"
     ]
    }
   ],
   "source": [
    "vector = np.array([1,2,3])\n",
    "print(\"Vector: \",vector)\n",
    "\n",
    "matrix = np.array([[1,2,3],\n",
    "[4,5,6]])\n",
    "print(\"Matrix:\" ,matrix)\n",
    "\n",
    "tensor = np.array([[[1,2], [3 ,4]],\n",
    "[[5 ,6] ,[7,8]]])\n",
    "print(\"tensor:\" , tensor)"
   ]
  },
  {
   "cell_type": "markdown",
   "metadata": {},
   "source": [
    "## Array Properties\n"
   ]
  },
  {
   "cell_type": "code",
   "execution_count": 11,
   "metadata": {},
   "outputs": [
    {
     "name": "stdout",
     "output_type": "stream",
     "text": [
      "Shape (2, 3)\n",
      "Dimention 2\n",
      "Size 6\n",
      "DType int64\n"
     ]
    }
   ],
   "source": [
    "arr = np.array([[1,2,3],\n",
    "                [4,5,6]])\n",
    "\n",
    "print(\"Shape\" , arr.shape)\n",
    "print(\"Dimention\" ,arr.ndim)\n",
    "print(\"Size\" , arr.size)\n",
    "print(\"DType\" ,arr.dtype)"
   ]
  },
  {
   "cell_type": "markdown",
   "metadata": {},
   "source": [
    "## Array Reshaping"
   ]
  },
  {
   "cell_type": "code",
   "execution_count": 14,
   "metadata": {},
   "outputs": [
    {
     "name": "stdout",
     "output_type": "stream",
     "text": [
      "Original array [ 0  1  2  3  4  5  6  7  8  9 10 11]\n",
      "\n",
      " reshapd array  [[ 0  1  2  3]\n",
      " [ 4  5  6  7]\n",
      " [ 8  9 10 11]]\n",
      "\n",
      " Flattend array  [ 0  1  2  3  4  5  6  7  8  9 10 11]\n",
      "\n",
      " raveled array [ 0  1  2  3  4  5  6  7  8  9 10 11]\n"
     ]
    }
   ],
   "source": [
    "arr = np.arange(12)\n",
    "print(\"Original array\", arr)\n",
    "\n",
    "reshaped = arr.reshape((3 ,4))\n",
    "print(\"\\n reshapd array \" , reshaped)\n",
    "\n",
    "flattend = reshaped.flatten()\n",
    "print(\"\\n Flattend array \", flattend)\n",
    "\n",
    "# ravel  { return view , insted of copy}\n",
    "raveled = reshaped.ravel()\n",
    "print(\"\\n raveled array\" ,raveled)"
   ]
  },
  {
   "cell_type": "code",
   "execution_count": 15,
   "metadata": {},
   "outputs": [
    {
     "name": "stdout",
     "output_type": "stream",
     "text": [
      "\n",
      " transposed  array [[ 0  4  8]\n",
      " [ 1  5  9]\n",
      " [ 2  6 10]\n",
      " [ 3  7 11]]\n"
     ]
    }
   ],
   "source": [
    "# Transpose \n",
    "transpose = reshaped.T\n",
    "print(\"\\n transposed  array\" ,transpose)"
   ]
  }
 ],
 "metadata": {
  "kernelspec": {
   "display_name": "venv",
   "language": "python",
   "name": "python3"
  },
  "language_info": {
   "codemirror_mode": {
    "name": "ipython",
    "version": 3
   },
   "file_extension": ".py",
   "mimetype": "text/x-python",
   "name": "python",
   "nbconvert_exporter": "python",
   "pygments_lexer": "ipython3",
   "version": "3.12.3"
  }
 },
 "nbformat": 4,
 "nbformat_minor": 2
}
